{
 "cells": [
  {
   "cell_type": "markdown",
   "id": "788aa242",
   "metadata": {},
   "source": [
    "# Preprocessing Pipeline\n",
    "### Test and prototype notebook for the preprocessing\n",
    "### Created: nerveinvader / 5th JULY 2025"
   ]
  },
  {
   "cell_type": "code",
   "execution_count": null,
   "id": "5ff3428e",
   "metadata": {},
   "outputs": [],
   "source": [
    "#import\n",
    "import os\n",
    "import pathlib as Path\n",
    "import numpy as np\n",
    "import pandas as pd\n",
    "import nibabel as nib\n",
    "import simpleitk as sitk\n",
    "from joblib import Parallel, delayed\n",
    "from tqdm import tqdm"
   ]
  }
 ],
 "metadata": {
  "language_info": {
   "name": "python"
  }
 },
 "nbformat": 4,
 "nbformat_minor": 5
}
